{
 "cells": [
  {
   "cell_type": "markdown",
   "metadata": {},
   "source": [
    "## Goals\n",
    "\n",
    "* Easy debugging\n",
    "* Easy modification\n",
    "* Understandability (now, after passage of time, and to another person)\n",
    "* Speed\n",
    "\n",
    "## Strategies\n",
    "* Plan – consider likely rate-limiting steps and best methodology before starting\n",
    "* Modularize – test subcomponents and use branches in Git\n",
    "* Check variable values, types, array sizes by hand (print statements or interrupted run)\n",
    "* Don’t assume “running” = “working”; brainstorm sanity checks\n",
    "* Use meaningful variable names (more than one letter!) that are not too similar\n",
    "* Keep standard defaults: e.g. i, j reserved for integer loop counters\n",
    "* Replace hardwired numbers with constant names at top of code or even in separate file\n",
    "* Write comments (including to bookend command sets, e.g. in if-then)\n",
    "* Take advantage of helpful visual appearance: white space, syntax highlighting\n",
    "* Avoid loops when unnecessary (possible tradeoff with understandability)\n",
    "* Manage I/O and memory; eliminate large arrays when no longer needed\n",
    "* Use print and system time statements to find out where code fails/slows\n",
    "\n",
    "## Python-specific tips ##\n",
    "* avoid \"import\" for scripts -- they will run at the time of import! use the \"def main\" protocol if you want your code to be both callable like a script and importable like a package -- see [this link](https://en.wikibooks.org/wiki/Python_Programming/Modules)\n",
    "* don't define a function in the middle of a program, even though python lets you -- doing this muddles whether variables are defined inside or outside the function\n",
    "* you can't use the variable name \"lambda\", it's a reserved word\n",
    "* do not use tabs as white space; standard indentation of code levels is 4 spaces (this is a matter of preference, but standardizing is essential when collaborating)\n",
    "* when speed is critical use libraries written in C and/or packages and functions set up to multi-thread\n",
    "* debug using the python debugger module \"pdb\" ([quick tutorial here](https://pythonconquerstheuniverse.wordpress.com/category/python-debugger/))\n",
    "* time code using the system clock, for example: \n"
   ]
  }
 ],
 "metadata": {
  "kernelspec": {
   "display_name": "Python 3",
   "language": "python",
   "name": "python3"
  },
  "language_info": {
   "codemirror_mode": {
    "name": "ipython",
    "version": 3
   },
   "file_extension": ".py",
   "mimetype": "text/x-python",
   "name": "python",
   "nbconvert_exporter": "python",
   "pygments_lexer": "ipython3",
   "version": "3.6.3"
  }
 },
 "nbformat": 4,
 "nbformat_minor": 2
}
